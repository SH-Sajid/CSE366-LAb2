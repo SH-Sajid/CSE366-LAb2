{
  "nbformat": 4,
  "nbformat_minor": 0,
  "metadata": {
    "colab": {
      "provenance": []
    },
    "kernelspec": {
      "name": "python3",
      "display_name": "Python 3"
    },
    "language_info": {
      "name": "python"
    }
  },
  "cells": [
    {
      "cell_type": "code",
      "execution_count": 3,
      "metadata": {
        "colab": {
          "base_uri": "https://localhost:8080/"
        },
        "id": "i2yYqaWgFzD3",
        "outputId": "24840132-8d02-4b63-f016-55ccf52e9810"
      },
      "outputs": [
        {
          "output_type": "stream",
          "name": "stdout",
          "text": [
            "Order quantity: 0\n"
          ]
        }
      ],
      "source": [
        "class SmartphoneInventoryAgent:\n",
        "    def __init__(self, average_price, critical_stock_level, discount_threshold):\n",
        "        self.average_price = average_price\n",
        "        self.critical_stock_level = critical_stock_level\n",
        "        self.discount_threshold = discount_threshold\n",
        "\n",
        "    def decide_order(self, current_price, stock_level):\n",
        "        to_buy = 0\n",
        "\n",
        "        # Check for significant price drop\n",
        "        if current_price <= self.average_price * (1 - self.discount_threshold):\n",
        "            if stock_level > self.critical_stock_level:\n",
        "                # Order a moderate quantity\n",
        "                to_buy = 15  # Adjust this quantity as needed\n",
        "            else:\n",
        "                # Prioritize restocking\n",
        "                to_buy = self.critical_stock_level - stock_level\n",
        "\n",
        "        # Check for critically low stock\n",
        "        elif stock_level <= self.critical_stock_level:\n",
        "            to_buy = self.critical_stock_level - stock_level\n",
        "\n",
        "        return to_buy\n",
        "\n",
        "# Example usage:\n",
        "agent = SmartphoneInventoryAgent(600, 10, 0.2)\n",
        "current_price = 500\n",
        "stock_level = 20\n",
        "\n",
        "order_quantity = agent.decide_order(current_price, stock_level)\n",
        "print(\"Order quantity:\", order_quantity)"
      ]
    }
  ]
}